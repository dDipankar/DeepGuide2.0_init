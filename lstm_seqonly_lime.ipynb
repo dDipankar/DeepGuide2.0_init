{
 "cells": [
  {
   "cell_type": "code",
   "execution_count": 1,
   "metadata": {},
   "outputs": [],
   "source": [
    "from collections import OrderedDict\n",
    "import os\n",
    "import sys\n",
    "import warnings\n",
    "\n",
    "import argparse\n",
    "import logging\n",
    "import h5py as h5f\n",
    "import numpy as np\n",
    "import pandas as pd\n",
    "import scipy.io\n",
    "\n",
    "import six\n",
    "from six.moves import range\n",
    "import matplotlib.pyplot as plt\n",
    "#from dna import *\n",
    "import tensorflow as tf\n",
    "from sklearn.metrics import roc_auc_score, confusion_matrix\n",
    "from keras.preprocessing import sequence\n",
    "from keras.optimizers import RMSprop,Adam, SGD\n",
    "from keras.models import Sequential, Model\n",
    "from keras.layers.core import  Dropout, Activation, Flatten\n",
    "from keras.regularizers import l1,l2,l1_l2\n",
    "from keras.constraints import maxnorm\n",
    "#from keras.layers.recurrent import LSTM, GRU\n",
    "from keras.callbacks import ModelCheckpoint, EarlyStopping\n",
    "from keras.layers import Conv1D, MaxPooling1D, Dense, LSTM, Bidirectional, BatchNormalization, MaxPooling2D, AveragePooling1D, Input, Multiply, Add, UpSampling1D,Concatenate\n",
    "from sklearn.metrics import mean_squared_error as mse\n",
    "import scipy.stats as st\n",
    "#from keras.utils import plot_model\n",
    "#from keras.utils.layer_utils import print_layer_shapes\n",
    "# fix random seed for reproducibility\n",
    "\n",
    "from sklearn.model_selection import train_test_split\n",
    "\n",
    "from sklearn.preprocessing import LabelEncoder\n",
    "from random import shuffle\n",
    "from sklearn.utils import shuffle\n",
    "np.random.seed(1369)"
   ]
  },
  {
   "cell_type": "code",
   "execution_count": 2,
   "metadata": {},
   "outputs": [],
   "source": [
    "from lime import lime_tabular"
   ]
  },
  {
   "cell_type": "code",
   "execution_count": 3,
   "metadata": {},
   "outputs": [],
   "source": [
    "def PREPROCESS(lines):    \n",
    "    data_n = len(lines)\n",
    "    SEQ = np.zeros((data_n, 28, 4), dtype=int)\n",
    "    Score = np.zeros((data_n, 1), dtype=float)\n",
    "    for l in range(0, data_n):\n",
    "        seq = lines[l]\n",
    "        for i in range(28):\n",
    "            if seq[i] in \"Aa\":\n",
    "                SEQ[l, i, 0] = 1\n",
    "            elif seq[i] in \"Cc\":\n",
    "                SEQ[l, i, 1] = 1\n",
    "            elif seq[i] in \"Gg\":\n",
    "                SEQ[l, i, 2] = 1\n",
    "            elif seq[i] in \"Tt\":\n",
    "                SEQ[l, i, 3] = 1\n",
    "        #CA[l-1,0] = int(data[2])*100\n",
    "\t\n",
    "    return SEQ"
   ]
  },
  {
   "cell_type": "code",
   "execution_count": 4,
   "metadata": {},
   "outputs": [],
   "source": [
    "def one_hot(df, cols):\n",
    "    \"\"\"\n",
    "    @param df pandas DataFrame\n",
    "    @param cols a list of columns to encode \n",
    "    @return a DataFrame with one-hot encoding\n",
    "    \"\"\"\n",
    "    for each in cols:\n",
    "        dummies = pd.get_dummies(df[each], prefix=each, drop_first=False)\n",
    "        df = pd.concat([df, dummies], axis=1)\n",
    "    return df"
   ]
  },
  {
   "cell_type": "code",
   "execution_count": 5,
   "metadata": {},
   "outputs": [],
   "source": [
    "def countGC(seq):\n",
    "    '''\n",
    "    GC content for only the 20mer, as per the Doench paper/code\n",
    "    '''\n",
    "    return len( seq[3:23].replace( 'A', '' ).replace( 'T', '' ) )"
   ]
  },
  {
   "cell_type": "code",
   "execution_count": 6,
   "metadata": {},
   "outputs": [],
   "source": [
    "def gc_cont(seq):\n",
    "    return (seq.count( 'G' ) + seq.count( 'C' )) / float( len( seq ) )"
   ]
  },
  {
   "cell_type": "code",
   "execution_count": 7,
   "metadata": {},
   "outputs": [
    {
     "data": {
      "text/plain": [
       "(478786, 7)"
      ]
     },
     "execution_count": 7,
     "metadata": {},
     "output_type": "execute_result"
    }
   ],
   "source": [
    "df = pd.read_csv('kmarc_medium_cs.csv')\n",
    "df.shape"
   ]
  },
  {
   "cell_type": "code",
   "execution_count": 8,
   "metadata": {},
   "outputs": [],
   "source": [
    "df['Temperature'] = df.Temperature.astype('category')\n",
    "df['Medium'] = df.Medium.astype('category')"
   ]
  },
  {
   "cell_type": "code",
   "execution_count": 9,
   "metadata": {},
   "outputs": [
    {
     "data": {
      "text/plain": [
       "Guide No.             float64\n",
       "location of crRNA      object\n",
       "20bp_crRNA             object\n",
       "28bp_crRNA             object\n",
       "Cutting_score         float64\n",
       "Temperature          category\n",
       "Medium               category\n",
       "dtype: object"
      ]
     },
     "execution_count": 9,
     "metadata": {},
     "output_type": "execute_result"
    }
   ],
   "source": [
    "df.dtypes"
   ]
  },
  {
   "cell_type": "code",
   "execution_count": 10,
   "metadata": {},
   "outputs": [],
   "source": [
    "col_list = ['Temperature','Medium']\n",
    "df_enc = one_hot(df,col_list)"
   ]
  },
  {
   "cell_type": "code",
   "execution_count": 11,
   "metadata": {},
   "outputs": [],
   "source": [
    "df_enc = shuffle(df_enc)"
   ]
  },
  {
   "cell_type": "code",
   "execution_count": 12,
   "metadata": {},
   "outputs": [],
   "source": [
    "guide_seq = df_enc['28bp_crRNA'].to_list()"
   ]
  },
  {
   "cell_type": "code",
   "execution_count": 13,
   "metadata": {},
   "outputs": [],
   "source": [
    "med = df_enc.loc[:,['Medium_glucose', 'Medium_lactose','Medium_xylose']]\n",
    "temp = df_enc.loc[:,['Temperature_30', 'Temperature_37']]"
   ]
  },
  {
   "cell_type": "code",
   "execution_count": 14,
   "metadata": {},
   "outputs": [],
   "source": [
    "med_arr = med.values\n",
    "temp_arr = temp.values"
   ]
  },
  {
   "cell_type": "code",
   "execution_count": 15,
   "metadata": {},
   "outputs": [
    {
     "data": {
      "text/plain": [
       "(478786, 5)"
      ]
     },
     "execution_count": 15,
     "metadata": {},
     "output_type": "execute_result"
    }
   ],
   "source": [
    "med_temp_arr = np.concatenate((med_arr,temp_arr), axis =1)\n",
    "med_temp_arr.shape"
   ]
  },
  {
   "cell_type": "code",
   "execution_count": 16,
   "metadata": {},
   "outputs": [],
   "source": [
    "guide_seq = df_enc['28bp_crRNA'].to_list()"
   ]
  },
  {
   "cell_type": "code",
   "execution_count": 17,
   "metadata": {},
   "outputs": [
    {
     "data": {
      "text/plain": [
       "478786"
      ]
     },
     "execution_count": 17,
     "metadata": {},
     "output_type": "execute_result"
    }
   ],
   "source": [
    "len(guide_seq)"
   ]
  },
  {
   "cell_type": "code",
   "execution_count": 18,
   "metadata": {},
   "outputs": [],
   "source": [
    "SEQ = PREPROCESS(guide_seq)"
   ]
  },
  {
   "cell_type": "code",
   "execution_count": 19,
   "metadata": {},
   "outputs": [],
   "source": [
    "score = df_enc.loc[:,'Cutting_score']\n",
    "score = score.values"
   ]
  },
  {
   "cell_type": "code",
   "execution_count": 20,
   "metadata": {},
   "outputs": [],
   "source": [
    "X_seq = SEQ\n",
    "X_mt = med_temp_arr\n",
    "y = score  "
   ]
  },
  {
   "cell_type": "code",
   "execution_count": 21,
   "metadata": {},
   "outputs": [
    {
     "data": {
      "text/plain": [
       "(478786, 5)"
      ]
     },
     "execution_count": 21,
     "metadata": {},
     "output_type": "execute_result"
    }
   ],
   "source": [
    "X_mt.shape"
   ]
  },
  {
   "cell_type": "code",
   "execution_count": 22,
   "metadata": {},
   "outputs": [
    {
     "data": {
      "text/plain": [
       "(478786, 28, 4)"
      ]
     },
     "execution_count": 22,
     "metadata": {},
     "output_type": "execute_result"
    }
   ],
   "source": [
    "X_seq.shape"
   ]
  },
  {
   "cell_type": "code",
   "execution_count": 23,
   "metadata": {},
   "outputs": [],
   "source": [
    "train_size = int(X_seq.shape[0] * 0.6)\n",
    "val_size = train_size +int(X_seq.shape[0] * 0.2)"
   ]
  },
  {
   "cell_type": "code",
   "execution_count": 24,
   "metadata": {},
   "outputs": [],
   "source": [
    "X_seq_f = X_seq.reshape(X_seq.shape[0],-1)"
   ]
  },
  {
   "cell_type": "code",
   "execution_count": 25,
   "metadata": {},
   "outputs": [
    {
     "data": {
      "text/plain": [
       "(478786, 112)"
      ]
     },
     "execution_count": 25,
     "metadata": {},
     "output_type": "execute_result"
    }
   ],
   "source": [
    "X_seq_f.shape"
   ]
  },
  {
   "cell_type": "code",
   "execution_count": 26,
   "metadata": {},
   "outputs": [
    {
     "data": {
      "text/plain": [
       "(478786, 1, 112)"
      ]
     },
     "execution_count": 26,
     "metadata": {},
     "output_type": "execute_result"
    }
   ],
   "source": [
    "X_seq_ff = np.expand_dims(X_seq_f, axis=1)\n",
    "X_seq_ff.shape"
   ]
  },
  {
   "cell_type": "code",
   "execution_count": 27,
   "metadata": {},
   "outputs": [
    {
     "data": {
      "text/plain": [
       "(478786, 1, 5)"
      ]
     },
     "execution_count": 27,
     "metadata": {},
     "output_type": "execute_result"
    }
   ],
   "source": [
    "X_mt_f = np.expand_dims(X_mt, axis =1)\n",
    "X_mt_f.shape"
   ]
  },
  {
   "cell_type": "code",
   "execution_count": null,
   "metadata": {},
   "outputs": [],
   "source": [
    "#X = np.concatenate((X_seq_ff, X_mt_f), axis=2)\n",
    "#X.shape"
   ]
  },
  {
   "cell_type": "code",
   "execution_count": 28,
   "metadata": {},
   "outputs": [],
   "source": [
    "X = X_seq_ff"
   ]
  },
  {
   "cell_type": "code",
   "execution_count": null,
   "metadata": {},
   "outputs": [],
   "source": [
    "pos_features = []\n",
    "for pos in range(0,28):\n",
    "    pos_features.append(str(pos)+'_'+'a')\n",
    "    pos_features.append(str(pos)+'_'+'c')\n",
    "    pos_features.append(str(pos)+'_'+'g')\n",
    "    pos_features.append(str(pos)+'_'+'t')"
   ]
  },
  {
   "cell_type": "code",
   "execution_count": null,
   "metadata": {},
   "outputs": [],
   "source": [
    "pos_features[0:10]"
   ]
  },
  {
   "cell_type": "code",
   "execution_count": null,
   "metadata": {},
   "outputs": [],
   "source": [
    "len(pos_features)"
   ]
  },
  {
   "cell_type": "code",
   "execution_count": null,
   "metadata": {},
   "outputs": [],
   "source": [
    "mt_featutes =['temp_0','temp_1','med_0','med_1','med_2']"
   ]
  },
  {
   "cell_type": "code",
   "execution_count": null,
   "metadata": {},
   "outputs": [],
   "source": [
    "pos_mt_features = pos_features + mt_featutes"
   ]
  },
  {
   "cell_type": "code",
   "execution_count": null,
   "metadata": {},
   "outputs": [],
   "source": [
    "len(pos_mt_features)"
   ]
  },
  {
   "cell_type": "code",
   "execution_count": null,
   "metadata": {},
   "outputs": [],
   "source": [
    "pos_mt_features[-5:]"
   ]
  },
  {
   "cell_type": "code",
   "execution_count": 29,
   "metadata": {},
   "outputs": [],
   "source": [
    "X_train = X[0:train_size]\n",
    "X_val = X[train_size:val_size]\n",
    "X_test = X[val_size:]"
   ]
  },
  {
   "cell_type": "code",
   "execution_count": 30,
   "metadata": {},
   "outputs": [],
   "source": [
    "y_train = y[0:train_size]\n",
    "y_val = y[train_size:val_size]\n",
    "y_test = y[val_size:]"
   ]
  },
  {
   "cell_type": "code",
   "execution_count": 31,
   "metadata": {},
   "outputs": [
    {
     "name": "stdout",
     "output_type": "stream",
     "text": [
      "Model: \"model\"\n",
      "_________________________________________________________________\n",
      "Layer (type)                 Output Shape              Param #   \n",
      "=================================================================\n",
      "input_1 (InputLayer)         [(None, 1, 112)]          0         \n",
      "_________________________________________________________________\n",
      "bidirectional (Bidirectional (None, 1, 32)             16512     \n",
      "_________________________________________________________________\n",
      "bidirectional_1 (Bidirection (None, 1, 16)             2624      \n",
      "_________________________________________________________________\n",
      "flatten (Flatten)            (None, 16)                0         \n",
      "_________________________________________________________________\n",
      "dropout (Dropout)            (None, 16)                0         \n",
      "_________________________________________________________________\n",
      "dense (Dense)                (None, 80)                1360      \n",
      "_________________________________________________________________\n",
      "dropout_1 (Dropout)          (None, 80)                0         \n",
      "_________________________________________________________________\n",
      "dense_1 (Dense)              (None, 40)                3240      \n",
      "_________________________________________________________________\n",
      "dropout_2 (Dropout)          (None, 40)                0         \n",
      "_________________________________________________________________\n",
      "dense_2 (Dense)              (None, 40)                1640      \n",
      "_________________________________________________________________\n",
      "dense_3 (Dense)              (None, 1)                 41        \n",
      "=================================================================\n",
      "Total params: 25,417\n",
      "Trainable params: 25,417\n",
      "Non-trainable params: 0\n",
      "_________________________________________________________________\n"
     ]
    }
   ],
   "source": [
    "SEQ = Input(shape=(1,112))\n",
    "blstm_1 = Bidirectional(LSTM(units=16, dropout=0.0,recurrent_dropout=0.0, return_sequences=True))(SEQ)\n",
    "blstm_2 = Bidirectional(LSTM(units=8,dropout=0.0, return_sequences=True))(blstm_1)\n",
    "flatten = Flatten()(blstm_2)\n",
    "dropout_1 = Dropout(0.5)(flatten)\n",
    "dense_1 = Dense(80, activation='relu', kernel_initializer='glorot_uniform')(dropout_1)\n",
    "dropout_2 = Dropout(0.5)(dense_1)\n",
    "dense_2 = Dense(units=40,  activation=\"relu\",kernel_initializer='glorot_uniform')(dropout_2)\n",
    "dropout_3 = Dropout(0.3)(dense_2)\n",
    "dense_3 = Dense(units=40,  activation=\"relu\",kernel_initializer='glorot_uniform')(dropout_3)\n",
    "out = Dense(units=1,  activation=\"linear\")(dense_3)\n",
    "model = Model(inputs = SEQ, outputs= out)\n",
    "model.summary()"
   ]
  },
  {
   "cell_type": "code",
   "execution_count": null,
   "metadata": {},
   "outputs": [],
   "source": []
  },
  {
   "cell_type": "code",
   "execution_count": 32,
   "metadata": {},
   "outputs": [
    {
     "name": "stdout",
     "output_type": "stream",
     "text": [
      "Epoch 1/50\n",
      "4484/4489 [============================>.] - ETA: 0s - loss: 5.7187\n",
      "Epoch 00001: val_loss improved from inf to 5.07185, saving model to seq_cs_lstm.hdf5\n",
      "4489/4489 [==============================] - 25s 6ms/step - loss: 5.7183 - val_loss: 5.0719\n",
      "Epoch 2/50\n",
      "4488/4489 [============================>.] - ETA: 0s - loss: 4.9878\n",
      "Epoch 00002: val_loss improved from 5.07185 to 4.77263, saving model to seq_cs_lstm.hdf5\n",
      "4489/4489 [==============================] - 24s 5ms/step - loss: 4.9877 - val_loss: 4.7726\n",
      "Epoch 3/50\n",
      "4486/4489 [============================>.] - ETA: 0s - loss: 4.6854\n",
      "Epoch 00003: val_loss improved from 4.77263 to 4.62455, saving model to seq_cs_lstm.hdf5\n",
      "4489/4489 [==============================] - 24s 5ms/step - loss: 4.6854 - val_loss: 4.6245\n",
      "Epoch 4/50\n",
      "4483/4489 [============================>.] - ETA: 0s - loss: 4.4597\n",
      "Epoch 00004: val_loss improved from 4.62455 to 4.45252, saving model to seq_cs_lstm.hdf5\n",
      "4489/4489 [==============================] - 24s 5ms/step - loss: 4.4591 - val_loss: 4.4525\n",
      "Epoch 5/50\n",
      "4480/4489 [============================>.] - ETA: 0s - loss: 4.3002\n",
      "Epoch 00005: val_loss improved from 4.45252 to 4.33594, saving model to seq_cs_lstm.hdf5\n",
      "4489/4489 [==============================] - 24s 5ms/step - loss: 4.2987 - val_loss: 4.3359\n",
      "Epoch 6/50\n",
      "4487/4489 [============================>.] - ETA: 0s - loss: 4.1740\n",
      "Epoch 00006: val_loss improved from 4.33594 to 4.24870, saving model to seq_cs_lstm.hdf5\n",
      "4489/4489 [==============================] - 24s 5ms/step - loss: 4.1741 - val_loss: 4.2487\n",
      "Epoch 7/50\n",
      "4484/4489 [============================>.] - ETA: 0s - loss: 4.0687\n",
      "Epoch 00007: val_loss improved from 4.24870 to 4.19479, saving model to seq_cs_lstm.hdf5\n",
      "4489/4489 [==============================] - 24s 5ms/step - loss: 4.0678 - val_loss: 4.1948\n",
      "Epoch 8/50\n",
      "4483/4489 [============================>.] - ETA: 0s - loss: 3.9973\n",
      "Epoch 00008: val_loss improved from 4.19479 to 4.09879, saving model to seq_cs_lstm.hdf5\n",
      "4489/4489 [==============================] - 24s 5ms/step - loss: 3.9972 - val_loss: 4.0988\n",
      "Epoch 9/50\n",
      "4486/4489 [============================>.] - ETA: 0s - loss: 3.9206\n",
      "Epoch 00009: val_loss improved from 4.09879 to 4.08254, saving model to seq_cs_lstm.hdf5\n",
      "4489/4489 [==============================] - 24s 5ms/step - loss: 3.9204 - val_loss: 4.0825\n",
      "Epoch 10/50\n",
      "4479/4489 [============================>.] - ETA: 0s - loss: 3.8684\n",
      "Epoch 00010: val_loss improved from 4.08254 to 4.06445, saving model to seq_cs_lstm.hdf5\n",
      "4489/4489 [==============================] - 24s 5ms/step - loss: 3.8688 - val_loss: 4.0644\n",
      "Epoch 11/50\n",
      "4482/4489 [============================>.] - ETA: 0s - loss: 3.8229\n",
      "Epoch 00011: val_loss improved from 4.06445 to 4.02750, saving model to seq_cs_lstm.hdf5\n",
      "4489/4489 [==============================] - 24s 5ms/step - loss: 3.8221 - val_loss: 4.0275\n",
      "Epoch 12/50\n",
      "4479/4489 [============================>.] - ETA: 0s - loss: 3.7889\n",
      "Epoch 00012: val_loss improved from 4.02750 to 3.97016, saving model to seq_cs_lstm.hdf5\n",
      "4489/4489 [==============================] - 27s 6ms/step - loss: 3.7890 - val_loss: 3.9702\n",
      "Epoch 13/50\n",
      "4484/4489 [============================>.] - ETA: 0s - loss: 3.7394\n",
      "Epoch 00013: val_loss improved from 3.97016 to 3.89135, saving model to seq_cs_lstm.hdf5\n",
      "4489/4489 [==============================] - 24s 5ms/step - loss: 3.7395 - val_loss: 3.8914\n",
      "Epoch 14/50\n",
      "4479/4489 [============================>.] - ETA: 0s - loss: 3.7072\n",
      "Epoch 00014: val_loss did not improve from 3.89135\n",
      "4489/4489 [==============================] - 24s 5ms/step - loss: 3.7067 - val_loss: 3.9014\n",
      "Epoch 15/50\n",
      "4482/4489 [============================>.] - ETA: 0s - loss: 3.6725\n",
      "Epoch 00015: val_loss did not improve from 3.89135\n",
      "4489/4489 [==============================] - 24s 5ms/step - loss: 3.6725 - val_loss: 3.9155\n",
      "Epoch 16/50\n",
      "4482/4489 [============================>.] - ETA: 0s - loss: 3.6469\n",
      "Epoch 00016: val_loss improved from 3.89135 to 3.85054, saving model to seq_cs_lstm.hdf5\n",
      "4489/4489 [==============================] - 25s 6ms/step - loss: 3.6468 - val_loss: 3.8505\n",
      "Epoch 17/50\n",
      "4481/4489 [============================>.] - ETA: 0s - loss: 3.6098\n",
      "Epoch 00017: val_loss improved from 3.85054 to 3.84391, saving model to seq_cs_lstm.hdf5\n",
      "4489/4489 [==============================] - 24s 5ms/step - loss: 3.6095 - val_loss: 3.8439\n",
      "Epoch 18/50\n",
      "4480/4489 [============================>.] - ETA: 0s - loss: 3.5897\n",
      "Epoch 00018: val_loss improved from 3.84391 to 3.82457, saving model to seq_cs_lstm.hdf5\n",
      "4489/4489 [==============================] - 24s 5ms/step - loss: 3.5902 - val_loss: 3.8246\n",
      "Epoch 19/50\n",
      "4486/4489 [============================>.] - ETA: 0s - loss: 3.5724\n",
      "Epoch 00019: val_loss did not improve from 3.82457\n",
      "4489/4489 [==============================] - 24s 5ms/step - loss: 3.5721 - val_loss: 3.8977\n",
      "Epoch 20/50\n",
      "4483/4489 [============================>.] - ETA: 0s - loss: 3.5366\n",
      "Epoch 00020: val_loss improved from 3.82457 to 3.76182, saving model to seq_cs_lstm.hdf5\n",
      "4489/4489 [==============================] - 24s 5ms/step - loss: 3.5369 - val_loss: 3.7618\n",
      "Epoch 21/50\n",
      "4487/4489 [============================>.] - ETA: 0s - loss: 3.5351\n",
      "Epoch 00021: val_loss improved from 3.76182 to 3.72312, saving model to seq_cs_lstm.hdf5\n",
      "4489/4489 [==============================] - 24s 5ms/step - loss: 3.5350 - val_loss: 3.7231\n",
      "Epoch 22/50\n",
      "4486/4489 [============================>.] - ETA: 0s - loss: 3.5089\n",
      "Epoch 00022: val_loss did not improve from 3.72312\n",
      "4489/4489 [==============================] - 24s 5ms/step - loss: 3.5088 - val_loss: 3.8513\n",
      "Epoch 23/50\n",
      "4485/4489 [============================>.] - ETA: 0s - loss: 3.4976\n",
      "Epoch 00023: val_loss improved from 3.72312 to 3.70834, saving model to seq_cs_lstm.hdf5\n",
      "4489/4489 [==============================] - 24s 5ms/step - loss: 3.4977 - val_loss: 3.7083\n",
      "Epoch 24/50\n",
      "4481/4489 [============================>.] - ETA: 0s - loss: 3.4940\n",
      "Epoch 00024: val_loss did not improve from 3.70834\n",
      "4489/4489 [==============================] - 24s 5ms/step - loss: 3.4939 - val_loss: 3.7730\n",
      "Epoch 25/50\n",
      "4480/4489 [============================>.] - ETA: 0s - loss: 3.4727\n",
      "Epoch 00025: val_loss did not improve from 3.70834\n",
      "4489/4489 [==============================] - 24s 5ms/step - loss: 3.4729 - val_loss: 3.7338\n",
      "Epoch 26/50\n",
      "4482/4489 [============================>.] - ETA: 0s - loss: 3.4606\n",
      "Epoch 00026: val_loss did not improve from 3.70834\n",
      "4489/4489 [==============================] - 25s 6ms/step - loss: 3.4609 - val_loss: 3.7452\n",
      "Epoch 27/50\n",
      "4480/4489 [============================>.] - ETA: 0s - loss: 3.4385\n",
      "Epoch 00027: val_loss did not improve from 3.70834\n",
      "4489/4489 [==============================] - 25s 6ms/step - loss: 3.4379 - val_loss: 3.7830\n",
      "Epoch 28/50\n",
      "4480/4489 [============================>.] - ETA: 0s - loss: 3.4187\n",
      "Epoch 00028: val_loss improved from 3.70834 to 3.68673, saving model to seq_cs_lstm.hdf5\n",
      "4489/4489 [==============================] - 24s 5ms/step - loss: 3.4188 - val_loss: 3.6867\n",
      "Epoch 29/50\n",
      "4480/4489 [============================>.] - ETA: 0s - loss: 3.4061\n",
      "Epoch 00029: val_loss improved from 3.68673 to 3.64691, saving model to seq_cs_lstm.hdf5\n",
      "4489/4489 [==============================] - 24s 5ms/step - loss: 3.4061 - val_loss: 3.6469\n",
      "Epoch 30/50\n",
      "4489/4489 [==============================] - ETA: 0s - loss: 3.3867\n",
      "Epoch 00030: val_loss did not improve from 3.64691\n",
      "4489/4489 [==============================] - 24s 5ms/step - loss: 3.3867 - val_loss: 3.6801\n",
      "Epoch 31/50\n",
      "4480/4489 [============================>.] - ETA: 0s - loss: 3.3748\n",
      "Epoch 00031: val_loss did not improve from 3.64691\n",
      "4489/4489 [==============================] - 25s 5ms/step - loss: 3.3744 - val_loss: 3.6944\n",
      "Epoch 32/50\n",
      "4488/4489 [============================>.] - ETA: 0s - loss: 3.3683\n",
      "Epoch 00032: val_loss improved from 3.64691 to 3.60070, saving model to seq_cs_lstm.hdf5\n",
      "4489/4489 [==============================] - 24s 5ms/step - loss: 3.3689 - val_loss: 3.6007\n",
      "Epoch 33/50\n",
      "4482/4489 [============================>.] - ETA: 0s - loss: 3.3522\n",
      "Epoch 00033: val_loss did not improve from 3.60070\n",
      "4489/4489 [==============================] - 24s 5ms/step - loss: 3.3528 - val_loss: 3.6646\n",
      "Epoch 34/50\n",
      "4485/4489 [============================>.] - ETA: 0s - loss: 3.3342\n",
      "Epoch 00034: val_loss improved from 3.60070 to 3.59197, saving model to seq_cs_lstm.hdf5\n",
      "4489/4489 [==============================] - 24s 5ms/step - loss: 3.3344 - val_loss: 3.5920\n",
      "Epoch 35/50\n",
      "4481/4489 [============================>.] - ETA: 0s - loss: 3.3255\n",
      "Epoch 00035: val_loss improved from 3.59197 to 3.58642, saving model to seq_cs_lstm.hdf5\n",
      "4489/4489 [==============================] - 24s 5ms/step - loss: 3.3276 - val_loss: 3.5864\n",
      "Epoch 36/50\n",
      "4488/4489 [============================>.] - ETA: 0s - loss: 3.3213\n",
      "Epoch 00036: val_loss did not improve from 3.58642\n",
      "4489/4489 [==============================] - 24s 5ms/step - loss: 3.3211 - val_loss: 3.6380\n",
      "Epoch 37/50\n",
      "4483/4489 [============================>.] - ETA: 0s - loss: 3.3165\n",
      "Epoch 00037: val_loss did not improve from 3.58642\n",
      "4489/4489 [==============================] - 24s 5ms/step - loss: 3.3165 - val_loss: 3.6889\n",
      "Epoch 38/50\n",
      "4488/4489 [============================>.] - ETA: 0s - loss: 3.3008\n",
      "Epoch 00038: val_loss improved from 3.58642 to 3.55554, saving model to seq_cs_lstm.hdf5\n",
      "4489/4489 [==============================] - 24s 5ms/step - loss: 3.3007 - val_loss: 3.5555\n",
      "Epoch 39/50\n",
      "4486/4489 [============================>.] - ETA: 0s - loss: 3.2890\n",
      "Epoch 00039: val_loss improved from 3.55554 to 3.52893, saving model to seq_cs_lstm.hdf5\n",
      "4489/4489 [==============================] - 24s 5ms/step - loss: 3.2890 - val_loss: 3.5289\n",
      "Epoch 40/50\n",
      "4487/4489 [============================>.] - ETA: 0s - loss: 3.2884\n",
      "Epoch 00040: val_loss did not improve from 3.52893\n",
      "4489/4489 [==============================] - 24s 5ms/step - loss: 3.2880 - val_loss: 3.6275\n",
      "Epoch 41/50\n",
      "4489/4489 [==============================] - ETA: 0s - loss: 3.2763\n",
      "Epoch 00041: val_loss improved from 3.52893 to 3.51797, saving model to seq_cs_lstm.hdf5\n",
      "4489/4489 [==============================] - 25s 5ms/step - loss: 3.2763 - val_loss: 3.5180\n",
      "Epoch 42/50\n",
      "4480/4489 [============================>.] - ETA: 0s - loss: 3.2722\n",
      "Epoch 00042: val_loss did not improve from 3.51797\n",
      "4489/4489 [==============================] - 24s 5ms/step - loss: 3.2725 - val_loss: 3.5849\n",
      "Epoch 43/50\n",
      "4482/4489 [============================>.] - ETA: 0s - loss: 3.2685\n",
      "Epoch 00043: val_loss did not improve from 3.51797\n",
      "4489/4489 [==============================] - 24s 5ms/step - loss: 3.2678 - val_loss: 3.5745\n",
      "Epoch 44/50\n",
      "4487/4489 [============================>.] - ETA: 0s - loss: 3.2586\n",
      "Epoch 00044: val_loss did not improve from 3.51797\n",
      "4489/4489 [==============================] - 24s 5ms/step - loss: 3.2585 - val_loss: 3.6037\n",
      "Epoch 45/50\n",
      "4485/4489 [============================>.] - ETA: 0s - loss: 3.2590\n",
      "Epoch 00045: val_loss did not improve from 3.51797\n",
      "4489/4489 [==============================] - 24s 5ms/step - loss: 3.2589 - val_loss: 3.6012\n",
      "Epoch 46/50\n",
      "4485/4489 [============================>.] - ETA: 0s - loss: 3.2510\n",
      "Epoch 00046: val_loss did not improve from 3.51797\n",
      "4489/4489 [==============================] - 25s 5ms/step - loss: 3.2511 - val_loss: 3.7026\n",
      "Epoch 47/50\n",
      "4482/4489 [============================>.] - ETA: 0s - loss: 3.2441\n",
      "Epoch 00047: val_loss did not improve from 3.51797\n",
      "4489/4489 [==============================] - 24s 5ms/step - loss: 3.2439 - val_loss: 3.5799\n",
      "Epoch 48/50\n",
      "4484/4489 [============================>.] - ETA: 0s - loss: 3.2419\n",
      "Epoch 00048: val_loss did not improve from 3.51797\n",
      "4489/4489 [==============================] - 24s 5ms/step - loss: 3.2416 - val_loss: 3.5882\n",
      "Epoch 49/50\n",
      "4488/4489 [============================>.] - ETA: 0s - loss: 3.2288\n",
      "Epoch 00049: val_loss improved from 3.51797 to 3.51740, saving model to seq_cs_lstm.hdf5\n",
      "4489/4489 [==============================] - 25s 6ms/step - loss: 3.2286 - val_loss: 3.5174\n",
      "Epoch 50/50\n",
      "4489/4489 [==============================] - ETA: 0s - loss: 3.2294\n",
      "Epoch 00050: val_loss did not improve from 3.51740\n",
      "4489/4489 [==============================] - 25s 6ms/step - loss: 3.2294 - val_loss: 3.5397\n"
     ]
    }
   ],
   "source": [
    "adam = Adam(lr = 0.001)\n",
    "model.compile(loss='mean_squared_error', optimizer=adam)\n",
    "checkpointer = ModelCheckpoint(filepath=\"seq_cs_lstm.hdf5\",verbose=1, monitor='val_loss',save_best_only=True)\n",
    "earlystopper = EarlyStopping(monitor='val_loss', patience=20, verbose=1)\n",
    "# add tensorboard\n",
    "tf_callbacks = tf.keras.callbacks.TensorBoard(log_dir = \"logs/fit\" , histogram_freq = 1)\n",
    "history = model.fit([X_train], y_train, batch_size=64, epochs=50, shuffle=True, validation_data=( [X_val], y_val), callbacks=[checkpointer,earlystopper,tf_callbacks])"
   ]
  },
  {
   "cell_type": "code",
   "execution_count": null,
   "metadata": {},
   "outputs": [],
   "source": [
    "%reload_ext tensorboard\n",
    "%tensorboard --logdir logs"
   ]
  },
  {
   "cell_type": "code",
   "execution_count": null,
   "metadata": {},
   "outputs": [],
   "source": [
    "explainer = lime_tabular.RecurrentTabularExplainer(X_train, training_labels=y_train, feature_names=pos_mt_features,\n",
    "                                                   discretize_continuous = False,\n",
    "                                                   mode = 'regression')"
   ]
  },
  {
   "cell_type": "code",
   "execution_count": null,
   "metadata": {},
   "outputs": [],
   "source": [
    "exp = explainer.explain_instance(X_test[45], \n",
    "     model.predict, num_features=10)\n",
    "exp.as_pyplot_figure()"
   ]
  },
  {
   "cell_type": "code",
   "execution_count": null,
   "metadata": {},
   "outputs": [],
   "source": [
    "y_test[0:10]"
   ]
  },
  {
   "cell_type": "code",
   "execution_count": null,
   "metadata": {},
   "outputs": [],
   "source": [
    "max(y_test)"
   ]
  },
  {
   "cell_type": "code",
   "execution_count": null,
   "metadata": {},
   "outputs": [],
   "source": [
    "min(y_test)"
   ]
  },
  {
   "cell_type": "code",
   "execution_count": null,
   "metadata": {},
   "outputs": [],
   "source": [
    "X_test.shape"
   ]
  },
  {
   "cell_type": "code",
   "execution_count": null,
   "metadata": {},
   "outputs": [],
   "source": [
    "aa = np.argsort(y_test)"
   ]
  },
  {
   "cell_type": "code",
   "execution_count": null,
   "metadata": {},
   "outputs": [],
   "source": [
    "aa[0:5]"
   ]
  },
  {
   "cell_type": "code",
   "execution_count": null,
   "metadata": {},
   "outputs": [],
   "source": [
    "aa[-5:]"
   ]
  },
  {
   "cell_type": "code",
   "execution_count": null,
   "metadata": {},
   "outputs": [],
   "source": [
    "y_test[6897]"
   ]
  },
  {
   "cell_type": "code",
   "execution_count": null,
   "metadata": {},
   "outputs": [],
   "source": [
    "y_test[95381]"
   ]
  },
  {
   "cell_type": "code",
   "execution_count": null,
   "metadata": {},
   "outputs": [],
   "source": [
    "y_test[12300]"
   ]
  },
  {
   "cell_type": "code",
   "execution_count": null,
   "metadata": {},
   "outputs": [],
   "source": [
    "y_test[79840]"
   ]
  },
  {
   "cell_type": "code",
   "execution_count": null,
   "metadata": {},
   "outputs": [],
   "source": []
  },
  {
   "cell_type": "code",
   "execution_count": 33,
   "metadata": {},
   "outputs": [
    {
     "name": "stdout",
     "output_type": "stream",
     "text": [
      "testset\n",
      "mse 3.5700616156899785\n",
      "SpearmanrResult(correlation=0.7129045582101791, pvalue=0.0)\n",
      "SpearmanrResult(correlation=0.7262174091589781, pvalue=0.0)\n"
     ]
    },
    {
     "data": {
      "image/png": "[encoded data removed]",
      "text/plain": [
       "<Figure size 432x288 with 1 Axes>"
      ]
     },
     "metadata": {
      "needs_background": "light"
     },
     "output_type": "display_data"
    }
   ],
   "source": [
    "print('testset')\n",
    "pred_y = model.predict([X_test ])\n",
    "print('mse ' + str(mse(y_test, pred_y)))\n",
    "print(st.spearmanr(y_test, pred_y))\n",
    "y_pred_tr = model.predict([X_train])\n",
    "print(st.spearmanr(y_train, y_pred_tr)) \n",
    "plt.plot(history.history['loss'])\n",
    "plt.plot(history.history['val_loss'])\n",
    "plt.title('model loss')\n",
    "plt.ylabel('loss')\n",
    "plt.xlabel('epoch')\n",
    "plt.legend(['train', 'val'], loc='upper left')\n",
    "plt.show() "
   ]
  },
  {
   "cell_type": "code",
   "execution_count": 34,
   "metadata": {},
   "outputs": [
    {
     "name": "stdout",
     "output_type": "stream",
     "text": [
      "(0.7809944820519232, 0.0)\n"
     ]
    }
   ],
   "source": [
    "pred_y = pred_y.flatten()\n",
    "y_test = y_test.flatten()\n",
    "print(st.pearsonr(y_test, pred_y))"
   ]
  },
  {
   "cell_type": "code",
   "execution_count": null,
   "metadata": {},
   "outputs": [],
   "source": [
    "exp = explainer.explain_instance(X_test[12300], \n",
    "     model.predict, num_features=10)\n",
    "exp.as_pyplot_figure()"
   ]
  },
  {
   "cell_type": "code",
   "execution_count": null,
   "metadata": {},
   "outputs": [],
   "source": [
    "exp = explainer.explain_instance(X_test[52753], \n",
    "     model.predict, num_features=10)\n",
    "exp.as_pyplot_figure()"
   ]
  },
  {
   "cell_type": "code",
   "execution_count": null,
   "metadata": {},
   "outputs": [],
   "source": [
    "ind = 79840\n",
    "exp = explainer.explain_instance(X_test[ind], \n",
    "     model.predict, num_features=10)\n",
    "exp.as_pyplot_figure()"
   ]
  },
  {
   "cell_type": "code",
   "execution_count": null,
   "metadata": {},
   "outputs": [],
   "source": [
    "ind = 29400\n",
    "exp = explainer.explain_instance(X_test[ind], \n",
    "     model.predict, num_features=10)\n",
    "exp.as_pyplot_figure()"
   ]
  },
  {
   "cell_type": "code",
   "execution_count": null,
   "metadata": {},
   "outputs": [],
   "source": [
    "ind = 5832\n",
    "exp = explainer.explain_instance(X_test[ind], \n",
    "     model.predict, num_features=10)\n",
    "exp.as_pyplot_figure()"
   ]
  },
  {
   "cell_type": "code",
   "execution_count": null,
   "metadata": {},
   "outputs": [],
   "source": []
  }
 ],
 "metadata": {
  "kernelspec": {
   "display_name": "myenv",
   "language": "python",
   "name": "myenv"
  },
  "language_info": {
   "codemirror_mode": {
    "name": "ipython",
    "version": 3
   },
   "file_extension": ".py",
   "mimetype": "text/x-python",
   "name": "python",
   "nbconvert_exporter": "python",
   "pygments_lexer": "ipython3",
   "version": "3.6.10"
  }
 },
 "nbformat": 4,
 "nbformat_minor": 4
}
