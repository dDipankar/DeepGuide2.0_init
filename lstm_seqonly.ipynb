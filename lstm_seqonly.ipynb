{
 "cells": [
  {
   "cell_type": "code",
   "execution_count": null,
   "metadata": {},
   "outputs": [],
   "source": [
    "from collections import OrderedDict\n",
    "import os\n",
    "import sys\n",
    "import warnings\n",
    "\n",
    "import argparse\n",
    "import logging\n",
    "import h5py as h5f\n",
    "import numpy as np\n",
    "import pandas as pd\n",
    "import scipy.io\n",
    "\n",
    "import six\n",
    "from six.moves import range\n",
    "import matplotlib.pyplot as plt\n",
    "#from dna import *\n",
    "import tensorflow as tf\n",
    "from sklearn.metrics import roc_auc_score, confusion_matrix\n",
    "from keras.preprocessing import sequence\n",
    "from keras.optimizers import RMSprop,Adam, SGD\n",
    "from keras.models import Sequential, Model\n",
    "from keras.layers.core import  Dropout, Activation, Flatten\n",
    "from keras.regularizers import l1,l2,l1_l2\n",
    "from keras.constraints import maxnorm\n",
    "#from keras.layers.recurrent import LSTM, GRU\n",
    "from keras.callbacks import ModelCheckpoint, EarlyStopping\n",
    "from keras.layers import Conv1D, MaxPooling1D, Dense, LSTM, Bidirectional, BatchNormalization, MaxPooling2D, AveragePooling1D, Input, Multiply, Add, UpSampling1D,Concatenate\n",
    "from sklearn.metrics import mean_squared_error as mse\n",
    "import scipy.stats as st\n",
    "#from keras.utils import plot_model\n",
    "#from keras.utils.layer_utils import print_layer_shapes\n",
    "# fix random seed for reproducibility\n",
    "\n",
    "from sklearn.model_selection import train_test_split\n",
    "\n",
    "from sklearn.preprocessing import LabelEncoder\n",
    "from random import shuffle\n",
    "from sklearn.utils import shuffle\n",
    "np.random.seed(1369)"
   ]
  },
  {
   "cell_type": "code",
   "execution_count": null,
   "metadata": {},
   "outputs": [],
   "source": [
    "def PREPROCESS(lines):    \n",
    "    data_n = len(lines)\n",
    "    SEQ = np.zeros((data_n, 28, 4), dtype=int)\n",
    "    Score = np.zeros((data_n, 1), dtype=float)\n",
    "    for l in range(0, data_n):\n",
    "        seq = lines[l]\n",
    "        for i in range(28):\n",
    "            if seq[i] in \"Aa\":\n",
    "                SEQ[l, i, 0] = 1\n",
    "            elif seq[i] in \"Cc\":\n",
    "                SEQ[l, i, 1] = 1\n",
    "            elif seq[i] in \"Gg\":\n",
    "                SEQ[l, i, 2] = 1\n",
    "            elif seq[i] in \"Tt\":\n",
    "                SEQ[l, i, 3] = 1\n",
    "        #CA[l-1,0] = int(data[2])*100\n",
    "\t\n",
    "    return SEQ"
   ]
  },
  {
   "cell_type": "code",
   "execution_count": null,
   "metadata": {},
   "outputs": [],
   "source": [
    "def one_hot(df, cols):\n",
    "    \"\"\"\n",
    "    @param df pandas DataFrame\n",
    "    @param cols a list of columns to encode \n",
    "    @return a DataFrame with one-hot encoding\n",
    "    \"\"\"\n",
    "    for each in cols:\n",
    "        dummies = pd.get_dummies(df[each], prefix=each, drop_first=False)\n",
    "        df = pd.concat([df, dummies], axis=1)\n",
    "    return df"
   ]
  },
  {
   "cell_type": "code",
   "execution_count": null,
   "metadata": {},
   "outputs": [],
   "source": [
    "def countGC(seq):\n",
    "    '''\n",
    "    GC content for only the 20mer, as per the Doench paper/code\n",
    "    '''\n",
    "    return len( seq[3:23].replace( 'A', '' ).replace( 'T', '' ) )"
   ]
  },
  {
   "cell_type": "code",
   "execution_count": null,
   "metadata": {},
   "outputs": [],
   "source": [
    "def gc_cont(seq):\n",
    "    return (seq.count( 'G' ) + seq.count( 'C' )) / float( len( seq ) )"
   ]
  },
  {
   "cell_type": "code",
   "execution_count": null,
   "metadata": {},
   "outputs": [],
   "source": [
    "df = pd.read_csv('kmarc_medium_cs.csv')\n",
    "df.shape"
   ]
  },
  {
   "cell_type": "code",
   "execution_count": null,
   "metadata": {},
   "outputs": [],
   "source": [
    "df['Temperature'] = df.Temperature.astype('category')\n",
    "df['Medium'] = df.Medium.astype('category')"
   ]
  },
  {
   "cell_type": "code",
   "execution_count": null,
   "metadata": {},
   "outputs": [],
   "source": [
    "df.dtypes"
   ]
  },
  {
   "cell_type": "code",
   "execution_count": null,
   "metadata": {},
   "outputs": [],
   "source": [
    "col_list = ['Temperature','Medium']\n",
    "df_enc = one_hot(df,col_list)"
   ]
  },
  {
   "cell_type": "code",
   "execution_count": null,
   "metadata": {},
   "outputs": [],
   "source": [
    "df_enc = shuffle(df_enc)"
   ]
  },
  {
   "cell_type": "code",
   "execution_count": null,
   "metadata": {},
   "outputs": [],
   "source": [
    "guide_seq = df_enc['28bp_crRNA'].to_list()"
   ]
  },
  {
   "cell_type": "code",
   "execution_count": null,
   "metadata": {},
   "outputs": [],
   "source": [
    "med = df_enc.loc[:,['Medium_glucose', 'Medium_lactose','Medium_xylose']]\n",
    "temp = df_enc.loc[:,['Temperature_30', 'Temperature_37']]"
   ]
  },
  {
   "cell_type": "code",
   "execution_count": null,
   "metadata": {},
   "outputs": [],
   "source": [
    "med_arr = med.values\n",
    "temp_arr = temp.values"
   ]
  },
  {
   "cell_type": "code",
   "execution_count": null,
   "metadata": {},
   "outputs": [],
   "source": [
    "med_temp_arr = np.concatenate((med_arr,temp_arr), axis =1)\n",
    "med_temp_arr.shape"
   ]
  },
  {
   "cell_type": "code",
   "execution_count": null,
   "metadata": {},
   "outputs": [],
   "source": [
    "guide_seq = df_enc['28bp_crRNA'].to_list()"
   ]
  },
  {
   "cell_type": "code",
   "execution_count": null,
   "metadata": {},
   "outputs": [],
   "source": [
    "len(guide_seq)"
   ]
  },
  {
   "cell_type": "code",
   "execution_count": null,
   "metadata": {},
   "outputs": [],
   "source": [
    "SEQ = PREPROCESS(guide_seq)"
   ]
  },
  {
   "cell_type": "code",
   "execution_count": null,
   "metadata": {},
   "outputs": [],
   "source": [
    "score = df_enc.loc[:,'Cutting_score']\n",
    "score = score.values"
   ]
  },
  {
   "cell_type": "code",
   "execution_count": null,
   "metadata": {},
   "outputs": [],
   "source": [
    "X_seq = SEQ\n",
    "X_mt = med_temp_arr\n",
    "y = score  "
   ]
  },
  {
   "cell_type": "code",
   "execution_count": null,
   "metadata": {},
   "outputs": [],
   "source": [
    "X_mt.shape"
   ]
  },
  {
   "cell_type": "code",
   "execution_count": null,
   "metadata": {},
   "outputs": [],
   "source": [
    "X_seq.shape"
   ]
  },
  {
   "cell_type": "code",
   "execution_count": null,
   "metadata": {},
   "outputs": [],
   "source": [
    "train_size = int(X_seq.shape[0] * 0.6)\n",
    "val_size = train_size +int(X_seq.shape[0] * 0.2)"
   ]
  },
  {
   "cell_type": "code",
   "execution_count": null,
   "metadata": {},
   "outputs": [],
   "source": [
    "X_seq_f = X_seq.reshape(X_seq.shape[0],-1)"
   ]
  },
  {
   "cell_type": "code",
   "execution_count": null,
   "metadata": {},
   "outputs": [],
   "source": [
    "X_seq_f.shape"
   ]
  },
  {
   "cell_type": "code",
   "execution_count": null,
   "metadata": {},
   "outputs": [],
   "source": [
    "X_seq_ff = np.expand_dims(X_seq_f, axis=1)\n",
    "X_seq_ff.shape"
   ]
  },
  {
   "cell_type": "code",
   "execution_count": null,
   "metadata": {},
   "outputs": [],
   "source": [
    "X_mt_f = np.expand_dims(X_mt, axis =1)\n",
    "X_mt_f.shape"
   ]
  },
  {
   "cell_type": "code",
   "execution_count": null,
   "metadata": {},
   "outputs": [],
   "source": [
    "#X = np.concatenate((X_seq_ff, X_mt_f), axis=2)\n",
    "#X.shape"
   ]
  },
  {
   "cell_type": "code",
   "execution_count": null,
   "metadata": {},
   "outputs": [],
   "source": [
    "X = X_seq_ff"
   ]
  },
  {
   "cell_type": "code",
   "execution_count": null,
   "metadata": {},
   "outputs": [],
   "source": [
    "pos_features = []\n",
    "for pos in range(0,28):\n",
    "    pos_features.append(str(pos)+'_'+'a')\n",
    "    pos_features.append(str(pos)+'_'+'c')\n",
    "    pos_features.append(str(pos)+'_'+'g')\n",
    "    pos_features.append(str(pos)+'_'+'t')"
   ]
  },
  {
   "cell_type": "code",
   "execution_count": null,
   "metadata": {},
   "outputs": [],
   "source": [
    "pos_features[0:10]"
   ]
  },
  {
   "cell_type": "code",
   "execution_count": null,
   "metadata": {},
   "outputs": [],
   "source": [
    "len(pos_features)"
   ]
  },
  {
   "cell_type": "code",
   "execution_count": null,
   "metadata": {},
   "outputs": [],
   "source": [
    "mt_featutes =['temp_0','temp_1','med_0','med_1','med_2']"
   ]
  },
  {
   "cell_type": "code",
   "execution_count": null,
   "metadata": {},
   "outputs": [],
   "source": [
    "pos_mt_features = pos_features + mt_featutes"
   ]
  },
  {
   "cell_type": "code",
   "execution_count": null,
   "metadata": {},
   "outputs": [],
   "source": [
    "len(pos_mt_features)"
   ]
  },
  {
   "cell_type": "code",
   "execution_count": null,
   "metadata": {},
   "outputs": [],
   "source": [
    "pos_mt_features[-5:]"
   ]
  },
  {
   "cell_type": "code",
   "execution_count": null,
   "metadata": {},
   "outputs": [],
   "source": [
    "X_train = X[0:train_size]\n",
    "X_val = X[train_size:val_size]\n",
    "X_test = X[val_size:]"
   ]
  },
  {
   "cell_type": "code",
   "execution_count": null,
   "metadata": {},
   "outputs": [],
   "source": [
    "y_train = y[0:train_size]\n",
    "y_val = y[train_size:val_size]\n",
    "y_test = y[val_size:]"
   ]
  },
  {
   "cell_type": "code",
   "execution_count": null,
   "metadata": {},
   "outputs": [],
   "source": [
    "SEQ = Input(shape=(1,112))\n",
    "blstm_1 = Bidirectional(LSTM(units=16, dropout=0.0,recurrent_dropout=0.0, return_sequences=True))(SEQ)\n",
    "blstm_2 = Bidirectional(LSTM(units=8,dropout=0.0, return_sequences=True))(blstm_1)\n",
    "flatten = Flatten()(blstm_2)\n",
    "dropout_1 = Dropout(0.5)(flatten)\n",
    "dense_1 = Dense(80, activation='relu', kernel_initializer='glorot_uniform')(dropout_1)\n",
    "dropout_2 = Dropout(0.5)(dense_1)\n",
    "dense_2 = Dense(units=40,  activation=\"relu\",kernel_initializer='glorot_uniform')(dropout_2)\n",
    "dropout_3 = Dropout(0.3)(dense_2)\n",
    "dense_3 = Dense(units=40,  activation=\"relu\",kernel_initializer='glorot_uniform')(dropout_3)\n",
    "out = Dense(units=1,  activation=\"linear\")(dense_3)\n",
    "model = Model(inputs = SEQ, outputs= out)\n",
    "model.summary()"
   ]
  },
  {
   "cell_type": "code",
   "execution_count": null,
   "metadata": {},
   "outputs": [],
   "source": []
  },
  {
   "cell_type": "code",
   "execution_count": null,
   "metadata": {},
   "outputs": [],
   "source": [
    "adam = Adam(lr = 0.001)\n",
    "model.compile(loss='mean_squared_error', optimizer=adam)\n",
    "checkpointer = ModelCheckpoint(filepath=\"seq_cs_lstm.hdf5\",verbose=1, monitor='val_loss',save_best_only=True)\n",
    "earlystopper = EarlyStopping(monitor='val_loss', patience=20, verbose=1)\n",
    "# add tensorboard\n",
    "tf_callbacks = tf.keras.callbacks.TensorBoard(log_dir = \"logs/fit\" , histogram_freq = 1)\n",
    "history = model.fit([X_train], y_train, batch_size=64, epochs=50, shuffle=True, validation_data=( [X_val], y_val), callbacks=[checkpointer,earlystopper,tf_callbacks])"
   ]
  },
  {
   "cell_type": "code",
   "execution_count": null,
   "metadata": {},
   "outputs": [],
   "source": [
    "X_test.shape"
   ]
  },
  {
   "cell_type": "code",
   "execution_count": null,
   "metadata": {},
   "outputs": [],
   "source": [
    "print('testset')\n",
    "pred_y = model.predict([X_test ])\n",
    "print('mse ' + str(mse(y_test, pred_y)))\n",
    "print(st.spearmanr(y_test, pred_y))\n",
    "y_pred_tr = model.predict([X_train])\n",
    "print(st.spearmanr(y_train, y_pred_tr)) \n",
    "plt.plot(history.history['loss'])\n",
    "plt.plot(history.history['val_loss'])\n",
    "plt.title('model loss')\n",
    "plt.ylabel('loss')\n",
    "plt.xlabel('epoch')\n",
    "plt.legend(['train', 'val'], loc='upper left')\n",
    "plt.show() "
   ]
  },
  {
   "cell_type": "code",
   "execution_count": null,
   "metadata": {},
   "outputs": [],
   "source": [
    "pred_y = pred_y.flatten()\n",
    "y_test = y_test.flatten()\n",
    "print(st.pearsonr(y_test, pred_y))"
   ]
  },
  {
   "cell_type": "code",
   "execution_count": null,
   "metadata": {},
   "outputs": [],
   "source": []
  }
 ],
 "metadata": {
  "kernelspec": {
   "display_name": "myenv",
   "language": "python",
   "name": "myenv"
  },
  "language_info": {
   "codemirror_mode": {
    "name": "ipython",
    "version": 3
   },
   "file_extension": ".py",
   "mimetype": "text/x-python",
   "name": "python",
   "nbconvert_exporter": "python",
   "pygments_lexer": "ipython3",
   "version": "3.6.10"
  }
 },
 "nbformat": 4,
 "nbformat_minor": 4
}
